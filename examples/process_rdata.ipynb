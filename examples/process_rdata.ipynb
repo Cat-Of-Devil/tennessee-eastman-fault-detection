{
 "cells": [
  {
   "cell_type": "code",
   "execution_count": 28,
   "metadata": {
    "collapsed": true
   },
   "outputs": [],
   "source": [
    "import os\n",
    "import numpy\n",
    "\n",
    "# Execute rpy2_setup.sh to install dependencies\n",
    "import rpy2.robjects as robjects\n",
    "from rpy2.robjects import pandas2ri\n",
    "from rpy2.robjects import numpy2ri\n",
    "\n",
    "pandas2ri.activate()\n",
    "numpy2ri.activate()"
   ]
  },
  {
   "cell_type": "markdown",
   "metadata": {},
   "source": [
    "# Load RData as Pandas DataFrame"
   ]
  },
  {
   "cell_type": "code",
   "execution_count": 35,
   "metadata": {},
   "outputs": [],
   "source": [
    "fault_free_training_rf = robjects.r['load'](\"../data/TEP_FaultFree_Training.RData\")\n",
    "fault_free_testing_rf = robjects.r['load'](\"../data/TEP_FaultFree_Testing.RData\")\n",
    "faulty_training_rf = robjects.r['load'](\"../data/TEP_Faulty_Training.RData\")\n",
    "faulty_testing_rf = robjects.r['load'](\"../data/TEP_Faulty_Testing.RData\")"
   ]
  },
  {
   "cell_type": "code",
   "execution_count": 36,
   "metadata": {
    "collapsed": true
   },
   "outputs": [],
   "source": [
    "fault_free_training_df = pandas2ri.ri2py_dataframe(robjects.globalenv[\"fault_free_training\"])\n",
    "fault_free_testing_df = pandas2ri.ri2py_dataframe(robjects.globalenv[\"fault_free_testing\"])\n",
    "faulty_training_df = pandas2ri.ri2py_dataframe(robjects.globalenv[\"faulty_training\"])\n",
    "faulty_testing_df = pandas2ri.ri2py_dataframe(robjects.globalenv[\"faulty_testing\"])"
   ]
  },
  {
   "cell_type": "markdown",
   "metadata": {},
   "source": [
    "---------------------------------------------------------------------------------------------------------"
   ]
  },
  {
   "cell_type": "markdown",
   "metadata": {},
   "source": [
    "# Explore Dataset"
   ]
  },
  {
   "cell_type": "code",
   "execution_count": 42,
   "metadata": {},
   "outputs": [
    {
     "name": "stdout",
     "output_type": "stream",
     "text": [
      "   faultNumber  simulationRun  sample  xmeas_1  xmeas_2  xmeas_3  xmeas_4  \\\n",
      "1            1            1.0       1  0.25038   3674.0   4529.0   9.2320   \n",
      "2            1            1.0       2  0.25109   3659.4   4556.6   9.4264   \n",
      "3            1            1.0       3  0.25038   3660.3   4477.8   9.4426   \n",
      "4            1            1.0       4  0.24977   3661.3   4512.1   9.4776   \n",
      "5            1            1.0       5  0.29405   3679.0   4497.0   9.3381   \n",
      "\n",
      "   xmeas_5  xmeas_6  xmeas_7   ...     xmv_2   xmv_3   xmv_4   xmv_5   xmv_6  \\\n",
      "1   26.889   42.402   2704.3   ...    53.744  24.657  62.544  22.137  39.935   \n",
      "2   26.721   42.576   2705.0   ...    53.414  24.588  59.259  22.084  40.176   \n",
      "3   26.875   42.070   2706.2   ...    54.357  24.666  61.275  22.380  40.244   \n",
      "4   26.758   42.063   2707.2   ...    53.946  24.725  59.856  22.277  40.257   \n",
      "5   26.889   42.650   2705.1   ...    53.658  28.797  60.717  21.947  39.144   \n",
      "\n",
      "    xmv_7   xmv_8   xmv_9  xmv_10  xmv_11  \n",
      "1  42.323  47.757  47.510  41.258  18.447  \n",
      "2  38.554  43.692  47.427  41.359  17.194  \n",
      "3  38.990  46.699  47.468  41.199  20.530  \n",
      "4  38.072  47.541  47.658  41.643  18.089  \n",
      "5  41.955  47.645  47.346  41.507  18.461  \n",
      "\n",
      "[5 rows x 55 columns]\n"
     ]
    }
   ],
   "source": [
    "print faulty_training_df.keys()"
   ]
  },
  {
   "cell_type": "code",
   "execution_count": 47,
   "metadata": {},
   "outputs": [
    {
     "name": "stdout",
     "output_type": "stream",
     "text": [
      "[ 1  2  3  4  5  6  7  8  9 10 11 12 13 14 15 16 17 18 19 20]\n"
     ]
    }
   ],
   "source": [
    "print faulty_training_df['faultNumber'].unique()"
   ]
  },
  {
   "cell_type": "code",
   "execution_count": null,
   "metadata": {
    "collapsed": true
   },
   "outputs": [],
   "source": []
  }
 ],
 "metadata": {
  "kernelspec": {
   "display_name": "Python 2",
   "language": "python",
   "name": "python2"
  },
  "language_info": {
   "codemirror_mode": {
    "name": "ipython",
    "version": 2
   },
   "file_extension": ".py",
   "mimetype": "text/x-python",
   "name": "python",
   "nbconvert_exporter": "python",
   "pygments_lexer": "ipython2",
   "version": "2.7.12"
  }
 },
 "nbformat": 4,
 "nbformat_minor": 2
}
